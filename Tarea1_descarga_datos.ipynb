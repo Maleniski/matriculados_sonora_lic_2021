{
  "cells": [
    {
      "cell_type": "markdown",
      "metadata": {
        "id": "view-in-github",
        "colab_type": "text"
      },
      "source": [
        "<a href=\"https://colab.research.google.com/github/Maleniski/matriculados_sonora_lic_2021/blob/main/Tarea1_descarga_datos.ipynb\" target=\"_parent\"><img src=\"https://colab.research.google.com/assets/colab-badge.svg\" alt=\"Open In Colab\"/></a>"
      ]
    },
    {
      "cell_type": "markdown",
      "metadata": {
        "id": "zJCgcL29L1Zp"
      },
      "source": [
        "<center>\n",
        "<p><img src=\"https://mcd.unison.mx/wp-content/themes/awaken/img/logo_mcd.png\" width=\"150\">\n",
        "</p>\n",
        "\n",
        "\n",
        "\n",
        "# Curso *Ingeniería de Características*\n",
        "\n",
        "### Descargando datos\n",
        "\n",
        "\n",
        "<p> Profesor Julio Waissman Vilanova </p>\n",
        "<p> Estudiante María Elena Martínez Manzanares </p>\n",
        "<p>\n",
        "<img src=\"https://identidadbuho.unison.mx/wp-content/uploads/2019/06/letragrama-cmyk-72.jpg\" width=\"150\">\n",
        "</p>\n",
        "\n",
        "\n",
        "<a target=\"_blank\" href=\"https://colab.research.google.com/github/mcd-unison/ing-caract/blob/main/ejemplos/integracion/python/descarga_datos.ipynb\"><img src=\"https://i.ibb.co/2P3SLwK/colab.png\"  style=\"padding-bottom:5px;\" />Ejecuta en Google Colab</a>\n",
        "\n",
        "</center>"
      ]
    },
    {
      "cell_type": "markdown",
      "metadata": {
        "id": "jRKeM2-IL1Z0"
      },
      "source": [
        "# 1. Descarga de datos\n",
        "\n",
        "Se importan las bibliotecas necesarias."
      ]
    },
    {
      "cell_type": "code",
      "execution_count": 8,
      "metadata": {
        "id": "by1zRL1zL1Z2"
      },
      "outputs": [],
      "source": [
        "\n",
        "import os  # Para manejo de archivos y directorios\n",
        "import urllib.request # Una forma estandard de descargar datos\n",
        "# import requests # Otra forma no de las librerías de uso comun\n",
        "import requests #para llamada a APIs\n",
        "import json\n",
        "\n",
        "import datetime # Fecha de descarga\n",
        "import pandas as pd # Solo para ver el archivo descargado\n",
        "import zipfile # Descompresión de archivos"
      ]
    },
    {
      "cell_type": "markdown",
      "metadata": {
        "id": "k9QEZU3oL1Z4"
      },
      "source": [
        "Es importante saber en donde nos encontramos y crear los subdirectorios necesarios para guardar los datos de manera ordenada. Tambien es importante evitar cargar datos que ya han sido descargados anteriormente."
      ]
    },
    {
      "cell_type": "code",
      "execution_count": 14,
      "metadata": {
        "id": "cukbdX0aL1Z5",
        "colab": {
          "base_uri": "https://localhost:8080/"
        },
        "outputId": "97e0d1b4-6e8a-4565-f7c7-09fa5e7824b0"
      },
      "outputs": [
        {
          "output_type": "stream",
          "name": "stdout",
          "text": [
            "/content\n"
          ]
        }
      ],
      "source": [
        "# pwd\n",
        "print(os.getcwd())\n",
        "\n",
        "#  Estos son los datos que vamos a descargar y donde vamos a guardarlos\n",
        "matriculados_unison_2021_url = \"https://datamexico.org/api/data?Institution=2932&Year=2020,2021&cube=anuies_enrollment&drilldowns=Year,Campus&locale=es&measures=Students&parents=true&sparse=false&growth=Year,Students\"\n",
        "matriculados_unison_2021_archivo = \"matriculados_unison_2021.json\"\n",
        "matriculados_licenciatura_sonora_2021_url = \"https://www.inegi.org.mx/contenidos/temas/areasgeograficas/infxentidad/Son/2022/06/6.17.xls\"\n",
        "matriculados_licenciatura_sonora_2021_archivo = \"matriculados_licenciatura_sonora_2021.xls\"\n",
        "subdir = \"./data/\"\n"
      ]
    },
    {
      "cell_type": "code",
      "execution_count": 17,
      "metadata": {
        "id": "z3P1fOsAL1Z7"
      },
      "outputs": [],
      "source": [
        "if not os.path.exists(matriculados_licenciatura_sonora_2021_archivo):\n",
        "    if not os.path.exists(subdir):\n",
        "        os.makedirs(subdir)\n",
        "    urllib.request.urlretrieve(matriculados_licenciatura_sonora_2021_url, subdir + matriculados_licenciatura_sonora_2021_archivo)  \n",
        "\n",
        "    matricula_unison_2021 = requests.get(matriculados_unison_2021_url).json()\n",
        "\n",
        "    with open(subdir + matriculados_unison_2021_archivo, \"w\") as outfile:\n",
        "      json.dump(matricula_unison_2021, outfile)\n",
        "\n",
        "    with open(subdir + \"info.txt\", 'w') as f:\n",
        "        f.write(\"Archivo que contiene datos de matriculados a nivel superior en Sonora durante el 2021\\n\")\n",
        "        info = \"\"\"\n",
        "        Hay dos archivos principales. El primero contiene información de matriculados a nivel superior en Sonor aseparados por genero y otro \\n\n",
        "        contiene matriculados en la Universidad de Sonora separados por carrera. Información del 2021.\n",
        "\n",
        "        \"\"\" \n",
        "        f.write(info + '\\n')\n",
        "        f.write(\"Descargado el \" + datetime.datetime.now().strftime(\"%Y-%m-%d %H:%M:%S\") + \"\\n\")\n",
        "        f.write(\"Desde: \" + matriculados_unison_2021_url + \"\\n\")\n",
        "        f.write(\"Nombre: \" + matriculados_unison_2021_archivo + \"\\n\")\n",
        "        f.write(\"Desde: \" + matriculados_unison_2021_url + \"\\n\")\n",
        "        f.write(\"Nombre: \" + matriculados_unison_2021_archivo + \"\\n\")"
      ]
    }
  ],
  "metadata": {
    "kernelspec": {
      "display_name": "Python 3.9.6 ('ing-caract')",
      "language": "python",
      "name": "python3"
    },
    "language_info": {
      "codemirror_mode": {
        "name": "ipython",
        "version": 3
      },
      "file_extension": ".py",
      "mimetype": "text/x-python",
      "name": "python",
      "nbconvert_exporter": "python",
      "pygments_lexer": "ipython3",
      "version": "3.9.6"
    },
    "orig_nbformat": 4,
    "vscode": {
      "interpreter": {
        "hash": "df66168c05601359b7a18d86a592119f5db8fb3a1787607b00a26812b2b93761"
      }
    },
    "colab": {
      "name": "Tarea1_descarga_datos.ipynb",
      "provenance": [],
      "include_colab_link": true
    }
  },
  "nbformat": 4,
  "nbformat_minor": 0
}